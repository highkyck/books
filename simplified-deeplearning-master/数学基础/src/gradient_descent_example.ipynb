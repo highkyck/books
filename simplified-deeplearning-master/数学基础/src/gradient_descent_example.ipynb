{
 "cells": [
  {
   "cell_type": "markdown",
   "metadata": {},
   "source": [
    "### 问题\n",
    "假设我们有一些样本点$\\boldsymbol{X}$和对应的目标$\\boldsymbol{y}$，已知$\\boldsymbol{y}$可以由$f(\\boldsymbol{x}) = \\boldsymbol{w \\cdot x}+ b$加上噪音生成，求解函数$f$的参数$\\boldsymbol{w}$和$b$。\n",
    "\n",
    "### 求解\n",
    "&emsp;&emsp;首先定义$f(\\boldsymbol{x})$相对于$y$的损失函数\n",
    "\n",
    "$$L(f,y) = \\frac{1}{2}\\sum_{\\boldsymbol{x}} (f(\\boldsymbol{x})-y)^2 = \\frac{1}{2}\\sum_{\\boldsymbol{x}}(\\boldsymbol{w \\cdot x}+b - y)^2$$\n",
    "\n",
    "那么损失函数相对于参数$\\boldsymbol{w}$和$b$的导数分别为:\n",
    "\n",
    "$$\\frac{\\partial L}{\\partial \\boldsymbol{w}} = \\sum_{\\boldsymbol{x}} \\boldsymbol{x}(\\boldsymbol{w \\cdot x} + b - y)$$\n",
    "\n",
    "$$\\frac{\\partial L}{\\partial b} =  \\sum_{\\boldsymbol{x}} (\\boldsymbol{w \\cdot x} + b - y)$$\n",
    "\n",
    "根据梯度下降法的公式可以得到参数的更新公式：\n",
    "\n",
    "$$\\boldsymbol{w} = \\boldsymbol{w} - \\eta \\frac{\\partial L}{\\partial \\boldsymbol{w}}$$\n",
    "$$b = b - \\eta \\frac{\\partial L}{\\partial b}$$\n",
    "\n",
    "下面将使用Python的Numpy实现上述过程"
   ]
  },
  {
   "cell_type": "code",
   "execution_count": 1,
   "metadata": {},
   "outputs": [
    {
     "data": {
      "image/png": "[encoded data removed]",
      "text/plain": [
       "<matplotlib.figure.Figure at 0x7f78f0395d68>"
      ]
     },
     "metadata": {},
     "output_type": "display_data"
    }
   ],
   "source": [
    "import numpy as np\n",
    "import matplotlib.pyplot as plt\n",
    "\n",
    "## 定义w和b\n",
    "feature_num = 10\n",
    "w_real = np.random.random(feature_num)\n",
    "b_real = np.random.random()\n",
    "\n",
    "## 生成训练数据\n",
    "instance_num = 1000\n",
    "X = np.random.uniform(-100,100,(feature_num, instance_num))\n",
    "y = np.matmul(w_real, X) + b_real\n",
    "y = y + np.random.random(y.shape)\n",
    "\n",
    "## 初始化参数\n",
    "w = np.random.random(feature_num)\n",
    "b = np.random.random()\n",
    "\n",
    "iter_time = 20\n",
    "step_size = 0.0001\n",
    "loss_value = []\n",
    "\n",
    "## 迭代求解\n",
    "for i in range(iter_time):\n",
    "    delta = np.matmul(w, X) + b_real - y\n",
    "    loss_value.append((delta*delta).mean())\n",
    "    w = w - step_size*(np.matmul(delta, X.T))/instance_num\n",
    "    b = b - step_size*delta.mean()\n",
    "plt.clf\n",
    "plt.plot(np.array(loss_value[1:]))\n",
    "plt.show()"
   ]
  },
  {
   "cell_type": "code",
   "execution_count": 2,
   "metadata": {},
   "outputs": [
    {
     "data": {
      "text/plain": [
       "array([ 0.79842335,  0.42003747,  0.04151777,  0.05549998,  0.71396875,\n",
       "        0.60893848,  0.19337114,  0.42662969,  0.27833712,  0.63035355])"
      ]
     },
     "execution_count": 2,
     "metadata": {},
     "output_type": "execute_result"
    }
   ],
   "source": [
    "w"
   ]
  },
  {
   "cell_type": "code",
   "execution_count": 3,
   "metadata": {},
   "outputs": [
    {
     "data": {
      "text/plain": [
       "array([ 0.79855966,  0.41969485,  0.04192018,  0.05457261,  0.7145736 ,\n",
       "        0.60895623,  0.19295485,  0.42620365,  0.27826274,  0.63047412])"
      ]
     },
     "execution_count": 3,
     "metadata": {},
     "output_type": "execute_result"
    }
   ],
   "source": [
    "w_real"
   ]
  }
 ],
 "metadata": {
  "kernelspec": {
   "display_name": "Python 3",
   "language": "python",
   "name": "python3"
  },
  "language_info": {
   "codemirror_mode": {
    "name": "ipython",
    "version": 3
   },
   "file_extension": ".py",
   "mimetype": "text/x-python",
   "name": "python",
   "nbconvert_exporter": "python",
   "pygments_lexer": "ipython3",
   "version": "3.6.2"
  }
 },
 "nbformat": 4,
 "nbformat_minor": 2
}
